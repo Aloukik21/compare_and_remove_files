{
 "cells": [
  {
   "cell_type": "code",
   "execution_count": 1,
   "id": "75848f81",
   "metadata": {},
   "outputs": [],
   "source": [
    "import glob\n",
    "import os"
   ]
  },
  {
   "cell_type": "code",
   "execution_count": 2,
   "id": "551a5922",
   "metadata": {},
   "outputs": [],
   "source": [
    "path_image = \"train\\*.jpg\"\n",
    "path_txt = \"train\\*.txt\"\n",
    "img_size = int(len(str('.jpg')))\n",
    "txt_size = int(len(str('.txt')))"
   ]
  },
  {
   "cell_type": "code",
   "execution_count": 5,
   "id": "f6c39053",
   "metadata": {},
   "outputs": [],
   "source": [
    "def del_unwanted(del_list):\n",
    "    loop = len(del_list)\n",
    "    for i in range(loop):\n",
    "        #print(str(del_list[i]) +\".jpg\")\n",
    "        try:\n",
    "            os.remove(str(del_list[i]) +\".jpg\")\n",
    "        except:\n",
    "            continue\n",
    "    \n",
    "    \n",
    "def compare_list(big_list, small_list):\n",
    "    del_list = []\n",
    "    for i in range(len(big_list)):\n",
    "        if big_list[i] not in small_list:\n",
    "            del_list.append(big_list[i])\n",
    "    return del_list\n",
    "    \n",
    "\n",
    "def get_list(path_image, path_txt):\n",
    "    \n",
    "    images = glob.glob(path_image)\n",
    "    txt_files = glob.glob(path_txt)\n",
    "    \n",
    "    images_clean = [images[i][:-img_size] for i in range(len(images))]\n",
    "    txt_clean = [txt_files[i][:-txt_size] for i in range(len(txt_files))]\n",
    "    \n",
    "    return images_clean, txt_clean\n",
    "    \n",
    "   \n",
    "def main():\n",
    "    \n",
    "    img,txt = get_list(path_image, path_txt)\n",
    "    print(\"Total size image before: \" + str(len(img)))\n",
    "    print(\"Total size txt before: \" + str(len(txt)))\n",
    "    \n",
    "    del_list = compare_list(img,txt)\n",
    "    del_unwanted(del_list)\n",
    "    \n",
    "    img,txt = get_list(path_image, path_txt)\n",
    "    print(\" \")\n",
    "    print(\" \")\n",
    "    print(\"Total size image After: \" + str(len(img)))\n",
    "    print(\"Total size txt After: \" + str(len(txt)))    "
   ]
  },
  {
   "cell_type": "code",
   "execution_count": 6,
   "id": "2448a517",
   "metadata": {},
   "outputs": [
    {
     "name": "stdout",
     "output_type": "stream",
     "text": [
      "Total size image before: 1133\n",
      "Total size txt before: 560\n",
      " \n",
      " \n",
      "Total size image After: 560\n",
      "Total size txt After: 560\n"
     ]
    }
   ],
   "source": [
    "main()"
   ]
  },
  {
   "cell_type": "markdown",
   "id": "aaf44ea4",
   "metadata": {},
   "source": []
  },
  {
   "cell_type": "code",
   "execution_count": null,
   "id": "7125f213",
   "metadata": {},
   "outputs": [],
   "source": []
  }
 ],
 "metadata": {
  "kernelspec": {
   "display_name": "Python 3 (ipykernel)",
   "language": "python",
   "name": "python3"
  },
  "language_info": {
   "codemirror_mode": {
    "name": "ipython",
    "version": 3
   },
   "file_extension": ".py",
   "mimetype": "text/x-python",
   "name": "python",
   "nbconvert_exporter": "python",
   "pygments_lexer": "ipython3",
   "version": "3.7.9"
  }
 },
 "nbformat": 4,
 "nbformat_minor": 5
}
