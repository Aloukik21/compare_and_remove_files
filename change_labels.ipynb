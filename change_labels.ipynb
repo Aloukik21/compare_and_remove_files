{
 "cells": [
  {
   "cell_type": "code",
   "execution_count": 21,
   "id": "8bc0c3dc",
   "metadata": {},
   "outputs": [],
   "source": [
    "import pandas as pd\n",
    "import glob"
   ]
  },
  {
   "cell_type": "code",
   "execution_count": 22,
   "id": "9fdee9aa",
   "metadata": {},
   "outputs": [],
   "source": [
    "files = glob.glob('data\\*.txt')"
   ]
  },
  {
   "cell_type": "code",
   "execution_count": 23,
   "id": "86cbdd8d",
   "metadata": {},
   "outputs": [
    {
     "data": {
      "text/plain": [
       "'data\\\\train_0.txt'"
      ]
     },
     "execution_count": 23,
     "metadata": {},
     "output_type": "execute_result"
    }
   ],
   "source": [
    "files[0]"
   ]
  },
  {
   "cell_type": "code",
   "execution_count": 24,
   "id": "f95cebe7",
   "metadata": {},
   "outputs": [],
   "source": [
    "def replace_labels(files):\n",
    "    for i in range(len(files)):\n",
    "        # Read in the file\n",
    "        edit_this = str(files[i])\n",
    "        with open(edit_this, 'r') as file :\n",
    "          filedata = file.read()\n",
    "\n",
    "        # Replace the target string\n",
    "        try:\n",
    "            if \"-1\" in filedata:\n",
    "                print(str(files[i]) + \" Changed\")\n",
    "            filedata = filedata.replace('-1', '0')\n",
    "            \n",
    "        except:\n",
    "            continue\n",
    "\n",
    "        # Write the file out again\n",
    "        with open(edit_this, 'w') as file:\n",
    "          file.write(filedata)"
   ]
  },
  {
   "cell_type": "code",
   "execution_count": 25,
   "id": "8c8a468d",
   "metadata": {},
   "outputs": [
    {
     "name": "stdout",
     "output_type": "stream",
     "text": [
      "data\\train_373.txt Changed\n",
      "data\\train_378.txt Changed\n",
      "data\\train_379.txt Changed\n",
      "data\\train_380.txt Changed\n"
     ]
    }
   ],
   "source": [
    "replace_labels(files)"
   ]
  },
  {
   "cell_type": "code",
   "execution_count": null,
   "id": "89eb336f",
   "metadata": {},
   "outputs": [],
   "source": []
  }
 ],
 "metadata": {
  "kernelspec": {
   "display_name": "Python 3 (ipykernel)",
   "language": "python",
   "name": "python3"
  },
  "language_info": {
   "codemirror_mode": {
    "name": "ipython",
    "version": 3
   },
   "file_extension": ".py",
   "mimetype": "text/x-python",
   "name": "python",
   "nbconvert_exporter": "python",
   "pygments_lexer": "ipython3",
   "version": "3.7.9"
  }
 },
 "nbformat": 4,
 "nbformat_minor": 5
}
