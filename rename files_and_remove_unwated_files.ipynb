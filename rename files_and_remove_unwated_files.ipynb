{
 "cells": [
  {
   "cell_type": "code",
   "execution_count": 101,
   "id": "a92c2d9c",
   "metadata": {},
   "outputs": [],
   "source": [
    "import glob\n",
    "import os\n",
    "\n"
   ]
  },
  {
   "cell_type": "code",
   "execution_count": 102,
   "id": "69fe0306",
   "metadata": {},
   "outputs": [],
   "source": [
    "waste_list = []"
   ]
  },
  {
   "cell_type": "code",
   "execution_count": 103,
   "id": "f7ad762a",
   "metadata": {},
   "outputs": [],
   "source": [
    "def import_files():\n",
    "    all_files = \"data/*\"\n",
    "    img_path = \"data/*.jfif\"\n",
    "    jpg_path = \"data/*.jpg\"\n",
    "    jpeg_path = \"data/*.jpeg\"\n",
    "    files = glob.glob(img_path)\n",
    "    files.extend(glob.glob(jpg_path))\n",
    "    files.extend(glob.glob(jpeg_path))\n",
    "    all_files_img = glob.glob(all_files)\n",
    "\n",
    "\n",
    "def get_unused(all_files_img, files):\n",
    "    waste_list.clear()\n",
    "    for i in range(len(all_files_img)):\n",
    "        if str(all_files_img[i]) not in files:\n",
    "            waste_list.append(all_files_img[i])\n",
    "    return waste_list\n",
    "\n",
    "def remove_func(waste_list):\n",
    "    for i in range(len(waste_list)):\n",
    "        os.remove(waste_list[i])\n",
    "        \n",
    "def main():\n",
    "    import_files()\n",
    "    get_unused(all_files_img, files)\n",
    "    print(\"Total size image before: \" + str(len(files)))\n",
    "    print(\"Total size all files before: \" + str(len(all_files_img)))\n",
    "    remove_func(waste_list)\n",
    "  \n",
    "    import_files()\n",
    "\n",
    "    print(\" \")\n",
    "    print(\" \")\n",
    "    print(\"Total size image After: \" + str(len(files)))\n",
    "    print(\"Total size all files After: \" + str(len(all_files_img))) \n",
    "                        "
   ]
  },
  {
   "cell_type": "code",
   "execution_count": 104,
   "id": "f42a9f31",
   "metadata": {},
   "outputs": [
    {
     "name": "stdout",
     "output_type": "stream",
     "text": [
      "Total size image before: 301\n",
      "Total size all files before: 301\n",
      " \n",
      " \n",
      "Total size image After: 301\n",
      "Total size all files After: 301\n"
     ]
    }
   ],
   "source": [
    "\n",
    "main()"
   ]
  },
  {
   "cell_type": "code",
   "execution_count": 98,
   "id": "91efc462",
   "metadata": {},
   "outputs": [
    {
     "data": {
      "text/plain": [
       "[]"
      ]
     },
     "execution_count": 98,
     "metadata": {},
     "output_type": "execute_result"
    }
   ],
   "source": []
  },
  {
   "cell_type": "code",
   "execution_count": null,
   "id": "eee94c97",
   "metadata": {},
   "outputs": [],
   "source": []
  },
  {
   "cell_type": "code",
   "execution_count": null,
   "id": "d8375e4f",
   "metadata": {},
   "outputs": [],
   "source": []
  },
  {
   "cell_type": "code",
   "execution_count": null,
   "id": "9150f799",
   "metadata": {},
   "outputs": [],
   "source": []
  },
  {
   "cell_type": "code",
   "execution_count": null,
   "id": "d1e710f1",
   "metadata": {},
   "outputs": [],
   "source": []
  }
 ],
 "metadata": {
  "kernelspec": {
   "display_name": "Python 3 (ipykernel)",
   "language": "python",
   "name": "python3"
  },
  "language_info": {
   "codemirror_mode": {
    "name": "ipython",
    "version": 3
   },
   "file_extension": ".py",
   "mimetype": "text/x-python",
   "name": "python",
   "nbconvert_exporter": "python",
   "pygments_lexer": "ipython3",
   "version": "3.7.9"
  }
 },
 "nbformat": 4,
 "nbformat_minor": 5
}
